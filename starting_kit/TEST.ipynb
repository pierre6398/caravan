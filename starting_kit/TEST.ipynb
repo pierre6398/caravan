{
 "cells": [
  {
   "cell_type": "code",
   "execution_count": 1,
   "metadata": {},
   "outputs": [],
   "source": [
    "from sys import path\n",
    "import matplotlib.pyplot as plt\n",
    "import seaborn as sns\n",
    "import warnings\n",
    "warnings.simplefilter(action='ignore', category=FutureWarning)\n"
   ]
  },
  {
   "cell_type": "code",
   "execution_count": 2,
   "metadata": {},
   "outputs": [],
   "source": [
    "model_dir = 'sample_code_submission/'                        # Change the model to a better one once you have one!\n",
    "#model_dir = '../FILES/pretty_good_sample_code_submission/'\n",
    "result_dir = 'sample_result_submission/' \n",
    "problem_dir = 'ingestion_program/'  \n",
    "score_dir = 'scoring_program/'\n",
    "path.append(model_dir); path.append(problem_dir); path.append(score_dir); \n",
    "%matplotlib inline\n",
    "# Uncomment the next lines to auto-reload libraries (this causes some problem with pickles in Python 3)\n",
    "%load_ext autoreload\n",
    "%autoreload 2\n",
    "sns.set()"
   ]
  },
  {
   "cell_type": "code",
   "execution_count": 3,
   "metadata": {},
   "outputs": [
    {
     "name": "stdout",
     "output_type": "stream",
     "text": [
      "./input_data/xporters_feat.name\n",
      "./input_data/xporters_private.info\n",
      "./input_data/xporters_public.info\n",
      "./input_data/xporters_test.data\n",
      "./input_data/xporters_train.data\n",
      "./input_data/xporters_train.solution\n",
      "./input_data/xporters_valid.data\n"
     ]
    }
   ],
   "source": [
    "from data_io import read_as_df\n",
    "#data_dir = 'sample_data'        # Change this to the directory where you put the input data\n",
    "data_dir = './input_data/'          # The sample_data directory should contain only a very small subset of the data\n",
    "data_name = 'xporters'\n",
    "!ls $data_dir*"
   ]
  },
  {
   "cell_type": "code",
   "execution_count": 4,
   "metadata": {},
   "outputs": [
    {
     "name": "stdout",
     "output_type": "stream",
     "text": [
      "Reading ./input_data//xporters_train from AutoML format\n",
      "Number of examples = 38563\n",
      "Number of features = 59\n"
     ]
    }
   ],
   "source": [
    "data = read_as_df(data_dir  + '/' + data_name)                # The data are loaded as a Pandas Data Frame"
   ]
  },
  {
   "cell_type": "markdown",
   "metadata": {},
   "source": [
    "<div>\n",
    "    <h2>Model group : GradientBoostingRegressor</h2>\n",
    "    <p>\n",
    "        \n",
    " <ol>\n",
    "        \n",
    "   <li>score sans hyperparamètre</li>\n",
    "   <li>GridSearchCV recherche des meilleurs hyperparamètres</li>\n",
    "\n",
    "   <li>score avec hyperparamètres</li>\n",
    " \n",
    "   </ol>\n",
    "        \n",
    "        \n",
    "   </p>\n",
    "    </div>"
   ]
  },
  {
   "cell_type": "code",
   "execution_count": 5,
   "metadata": {},
   "outputs": [],
   "source": [
    "from data_io import write\n",
    "from model import model\n",
    "from model0 import model0\n",
    "from test_all_class import test_score\n",
    "from hyper_param import grid\n"
   ]
  },
  {
   "cell_type": "markdown",
   "metadata": {},
   "source": [
    "<h1>1 : Score sans hyperparamètre </h1>"
   ]
  },
  {
   "cell_type": "code",
   "execution_count": 10,
   "metadata": {},
   "outputs": [
    {
     "name": "stdout",
     "output_type": "stream",
     "text": [
      "Info file found : C:\\Users\\marka\\Documents\\miniProj\\caravan\\starting_kit\\input_data\\xporters_public.info\n",
      "\n",
      "CV score (95 perc. CI): 0.92 (+/- 0.01)\n",
      "voici le temps d'éxécution du modele:  <class 'model0.model0'>   188.33095836639404\n"
     ]
    }
   ],
   "source": [
    "score0,incertitude0=test_score(model0)"
   ]
  },
  {
   "cell_type": "markdown",
   "metadata": {},
   "source": [
    " <h1>2: GridSearchCV recherche des meilleurs hyperparamètres</h1>"
   ]
  },
  {
   "cell_type": "code",
   "execution_count": 6,
   "metadata": {},
   "outputs": [
    {
     "name": "stdout",
     "output_type": "stream",
     "text": [
      "Info file found : C:\\Users\\marka\\Documents\\miniProj\\caravan\\starting_kit\\input_data\\xporters_public.info\n",
      "{'max_depth': 9, 'n_estimators': 100, 'random_state': 0}\n"
     ]
    }
   ],
   "source": [
    "grid(model0)"
   ]
  },
  {
   "cell_type": "markdown",
   "metadata": {},
   "source": [
    "<h1>3: Score avec les meilleurs hyperparamètres </h1>"
   ]
  },
  {
   "cell_type": "code",
   "execution_count": 6,
   "metadata": {},
   "outputs": [
    {
     "name": "stdout",
     "output_type": "stream",
     "text": [
      "Info file found : C:\\Users\\marka\\Documents\\miniProj\\caravan\\starting_kit\\input_data\\xporters_public.info\n",
      "\n",
      "CV score (95 perc. CI): 0.96 (+/- 0.00)\n",
      "voici le temps d'éxécution du modele:  <class 'model.model'>   636.1261956691742\n"
     ]
    }
   ],
   "source": [
    "#final GradientBoostinRegressor\n",
    "score, incertitude=test_score(model)"
   ]
  },
  {
   "cell_type": "code",
   "execution_count": null,
   "metadata": {},
   "outputs": [],
   "source": []
  }
 ],
 "metadata": {
  "kernelspec": {
   "display_name": "Python 3",
   "language": "python",
   "name": "python3"
  },
  "language_info": {
   "codemirror_mode": {
    "name": "ipython",
    "version": 3
   },
   "file_extension": ".py",
   "mimetype": "text/x-python",
   "name": "python",
   "nbconvert_exporter": "python",
   "pygments_lexer": "ipython3",
   "version": "3.7.4"
  }
 },
 "nbformat": 4,
 "nbformat_minor": 1
}
